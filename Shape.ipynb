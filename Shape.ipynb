{
 "cells": [
  {
   "cell_type": "code",
   "execution_count": null,
   "metadata": {},
   "outputs": [],
   "source": [
    "import cv2 as cv\n",
    "import numpy as np\n",
    "import gradio as gr\n",
    "\n",
    "class Shape:\n",
    "    def __init__(self, img):\n",
    "        self.img = img\n",
    "\n",
    "    def detect(self, contour):\n",
    "        shape = \"undefined\"\n",
    "        epsilon = 0.03 * cv.arcLength(contour, True)\n",
    "        approx = cv.approxPolyDP(contour, epsilon, True)\n",
    "        if len(approx) == 4:\n",
    "            shape = \"Square\"\n",
    "        elif len(approx) > 5 and len(approx) < 15:\n",
    "            shape = \"triangle\"\n",
    "        else:\n",
    "            shape = \"Circle\"\n",
    "        return shape\n",
    "\n",
    "def draw_and_detect(img):\n",
    "    img = cv.cvtColor(img, cv.COLOR_RGBA2BGR)\n",
    "    img_object = Shape(img)\n",
    "    threshold, contours = preprocessing_image(img)\n",
    "    detected_shapes = [img_object.detect(contour) for contour in contours]\n",
    "    return ', '.join(detected_shapes)\n",
    "\n",
    "def preprocessing_image(img):\n",
    "    img_gray = cv.cvtColor(img, cv.COLOR_BGR2GRAY)\n",
    "    _, threshold = cv.threshold(img_gray, 127, 255, 0)\n",
    "    kernel = np.ones((5, 5), np.uint8)\n",
    "    cv.dilate(threshold, kernel, iterations=1)\n",
    "    threshold = cv.GaussianBlur(threshold, (15, 15), 0)\n",
    "    contours, _ = cv.findContours(threshold, cv.RETR_TREE, cv.CHAIN_APPROX_SIMPLE)\n",
    "    return threshold, contours\n",
    "\n",
    "iface = gr.Interface(fn=draw_and_detect, inputs=\"sketchpad\", outputs=\"text\", live=True)\n",
    "iface.launch()"
   ]
  }
 ],
 "metadata": {
  "language_info": {
   "name": "python"
  }
 },
 "nbformat": 4,
 "nbformat_minor": 2
}
