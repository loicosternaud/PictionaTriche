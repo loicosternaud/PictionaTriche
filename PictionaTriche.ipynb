{
 "cells": [
  {
   "cell_type": "code",
   "execution_count": 27,
   "metadata": {},
   "outputs": [],
   "source": [
    "import torch\n",
    "import torch.nn as nn\n",
    "import torchvision\n",
    "from torchvision import datasets, transforms\n",
    "import torch.nn.functional as F\n",
    "import numpy as np\n",
    "import matplotlib.pyplot as plt\n",
    "from tqdm import tqdm\n",
    "import ssl\n",
    "from PIL import Image\n",
    "import torchvision.transforms.functional as TF\n",
    "import gradio as gr\n",
    "import os\n",
    "from PIL import Image"
   ]
  },
  {
   "cell_type": "code",
   "execution_count": 28,
   "metadata": {},
   "outputs": [],
   "source": [
    "class MyModel(nn.Module):\n",
    "    def __init__(self):\n",
    "        super().__init__()\n",
    "        self.conv1 = nn.Conv2d(3, 6, 5)\n",
    "        self.maxpool = nn.MaxPool2d(2, 2)\n",
    "        self.conv2 = nn.Conv2d(6, 16, 5)\n",
    "        self.linear1 = nn.Linear(16 * 5 * 5, 120)\n",
    "        self.linear2 = nn.Linear(120, 84)\n",
    "        self.linear3 = nn.Linear(84, 3)\n",
    "\n",
    "    def forward(self, x):\n",
    "        x = self.maxpool(F.relu(self.conv1(x)))\n",
    "        x = self.maxpool(F.relu(self.conv2(x)))\n",
    "\n",
    "        x = x.reshape(-1, 16 * 5 * 5)\n",
    "\n",
    "        x = F.relu(self.linear1(x))\n",
    "        x = F.relu(self.linear2(x))\n",
    "        x = self.linear3(x)\n",
    "        return x"
   ]
  },
  {
   "cell_type": "code",
   "execution_count": 29,
   "metadata": {},
   "outputs": [],
   "source": [
    "class MyApp:\n",
    "    def __init__(self):\n",
    "        super().__init__()\n",
    "        self.epoch = 50\n",
    "        self.lr = 0.001\n",
    "        self.model = MyModel()\n",
    "\n",
    "        self.classes = ('squares', 'circles', 'triangles')\n",
    "        self.labels = (0, 1, 2)\n",
    "\n",
    "        self.transform = transforms.Compose([\n",
    "            transforms.Resize((32, 32)),\n",
    "            transforms.ToTensor(),\n",
    "        ])\n",
    "\n",
    "        self.dataset = torchvision.datasets.ImageFolder(root='shapes', transform=self.transform)\n",
    "        self.dataloader = torch.utils.data.DataLoader(self.dataset, batch_size=64, shuffle=True, num_workers=2)\n",
    "\n",
    "app = MyApp()"
   ]
  },
  {
   "cell_type": "code",
   "execution_count": 30,
   "metadata": {},
   "outputs": [],
   "source": [
    "def train_model(device):\n",
    "    loss_fonct = torch.nn.CrossEntropyLoss()\n",
    "    optimizer = torch.optim.Adam(app.model.parameters(), lr=0.01)\n",
    "\n",
    "    train_accuracies = np.zeros(app.epoch)\n",
    "    train_loss = []\n",
    "\n",
    "    for epoch in tqdm(range(app.epoch)):\n",
    "        total_train, correct_train = 0, 0\n",
    "        for batch_idx, batch in enumerate(tqdm(app.dataloader)):\n",
    "            images, labels = batch\n",
    "            images = images.to(device=device)\n",
    "            labels = labels.to(device=device)\n",
    "\n",
    "            output = app.model.forward(images)\n",
    "            loss = loss_fonct(output, labels)\n",
    "            optimizer.zero_grad()\n",
    "            loss.backward()\n",
    "            optimizer.step()\n",
    "\n",
    "            _, predicted = torch.max(output.data, 1)\n",
    "            total_train += labels.size(0)\n",
    "            correct_train += predicted.eq(labels).sum().item()\n",
    "\n",
    "            if batch_idx % 10 == 0:\n",
    "                train_loss.append(loss.item())\n",
    "\n",
    "            print(\"File Name:\", app.dataset.samples[batch_idx][0])\n",
    "\n",
    "        train_accuracies[epoch] = correct_train / total_train * 100\n",
    "        print(correct_train / total_train * 100, \"%\\n\")\n",
    "\n",
    "    torch.save(app.model.state_dict(), \"shapes-model.pth\")"
   ]
  },
  {
   "cell_type": "code",
   "execution_count": 31,
   "metadata": {},
   "outputs": [],
   "source": [
    "def predict(image):\n",
    "    out = app.model(image.reshape(1, 3, 32, 32))\n",
    "    _, pred = torch.max(out, dim=1)\n",
    "    return app.classes[pred.item()]"
   ]
  },
  {
   "cell_type": "code",
   "execution_count": 32,
   "metadata": {},
   "outputs": [],
   "source": [
    "def np_array_to_tensor_image(img, width=32, height=32, device='cpu'):\n",
    "    image = Image.fromarray(img).convert('RGB').resize((width, height))\n",
    "    image = transforms.Compose([\n",
    "        transforms.ToTensor(),\n",
    "    ])(image).unsqueeze(0)\n",
    "    return image.to(device, torch.float)"
   ]
  },
  {
   "cell_type": "code",
   "execution_count": 33,
   "metadata": {},
   "outputs": [],
   "source": [
    "def sketch_recognition(img):\n",
    "    img = np_array_to_tensor_image(img)\n",
    "    app.model.eval()\n",
    "    with torch.no_grad():\n",
    "        result = predict(img)\n",
    "    app.model.train()\n",
    "    return result"
   ]
  },
  {
   "cell_type": "code",
   "execution_count": 34,
   "metadata": {},
   "outputs": [
    {
     "data": {
      "text/plain": [
       "MyModel(\n",
       "  (conv1): Conv2d(3, 6, kernel_size=(5, 5), stride=(1, 1))\n",
       "  (maxpool): MaxPool2d(kernel_size=2, stride=2, padding=0, dilation=1, ceil_mode=False)\n",
       "  (conv2): Conv2d(6, 16, kernel_size=(5, 5), stride=(1, 1))\n",
       "  (linear1): Linear(in_features=400, out_features=120, bias=True)\n",
       "  (linear2): Linear(in_features=120, out_features=84, bias=True)\n",
       "  (linear3): Linear(in_features=84, out_features=3, bias=True)\n",
       ")"
      ]
     },
     "execution_count": 34,
     "metadata": {},
     "output_type": "execute_result"
    }
   ],
   "source": [
    "ssl._create_default_https_context = ssl._create_unverified_context\n",
    "\n",
    "device = torch.device(\"cuda\" if torch.cuda.is_available() else \"cpu\")\n",
    "\n",
    "app.model.to(device)"
   ]
  },
  {
   "cell_type": "code",
   "execution_count": 35,
   "metadata": {},
   "outputs": [
    {
     "name": "stderr",
     "output_type": "stream",
     "text": [
      "100%|██████████| 5/5 [00:00<00:00, 27.98it/s]\n",
      "  2%|▏         | 1/50 [00:00<00:08,  5.49it/s]"
     ]
    },
    {
     "name": "stdout",
     "output_type": "stream",
     "text": [
      "File Name: shapes/circles/drawing(1).png\n",
      "File Name: shapes/circles/drawing(10).png\n",
      "File Name: shapes/circles/drawing(100).png\n",
      "File Name: shapes/circles/drawing(11).png\n",
      "File Name: shapes/circles/drawing(12).png\n",
      "33.0 %\n",
      "\n"
     ]
    },
    {
     "name": "stderr",
     "output_type": "stream",
     "text": []
    },
    {
     "name": "stdout",
     "output_type": "stream",
     "text": [
      "File Name: shapes/circles/drawing(1).png\n",
      "File Name: shapes/circles/drawing(10).png\n",
      "File Name: shapes/circles/drawing(100).png\n",
      "File Name: shapes/circles/drawing(11).png\n",
      "File Name: shapes/circles/drawing(12).png\n"
     ]
    },
    {
     "name": "stderr",
     "output_type": "stream",
     "text": [
      "100%|██████████| 5/5 [00:00<00:00, 34.07it/s]\n",
      "  4%|▍         | 2/50 [00:00<00:07,  6.13it/s]"
     ]
    },
    {
     "name": "stdout",
     "output_type": "stream",
     "text": [
      "33.0 %\n",
      "\n"
     ]
    },
    {
     "name": "stderr",
     "output_type": "stream",
     "text": []
    },
    {
     "name": "stdout",
     "output_type": "stream",
     "text": [
      "File Name: shapes/circles/drawing(1).png\n",
      "File Name: shapes/circles/drawing(10).png\n"
     ]
    },
    {
     "name": "stderr",
     "output_type": "stream",
     "text": [
      "100%|██████████| 5/5 [00:00<00:00, 29.77it/s]\n",
      "  6%|▌         | 3/50 [00:00<00:07,  5.97it/s]"
     ]
    },
    {
     "name": "stdout",
     "output_type": "stream",
     "text": [
      "File Name: shapes/circles/drawing(100).png\n",
      "File Name: shapes/circles/drawing(11).png\n",
      "File Name: shapes/circles/drawing(12).png\n",
      "31.666666666666664 %\n",
      "\n"
     ]
    },
    {
     "name": "stderr",
     "output_type": "stream",
     "text": []
    },
    {
     "name": "stdout",
     "output_type": "stream",
     "text": [
      "File Name: shapes/circles/drawing(1).png\n",
      "File Name: shapes/circles/drawing(10).png\n",
      "File Name: shapes/circles/drawing(100).png\n",
      "File Name: shapes/circles/drawing(11).png\n",
      "File Name: shapes/circles/drawing(12).png\n"
     ]
    },
    {
     "name": "stderr",
     "output_type": "stream",
     "text": [
      "100%|██████████| 5/5 [00:00<00:00, 37.54it/s]\n",
      "  8%|▊         | 4/50 [00:00<00:07,  6.45it/s]"
     ]
    },
    {
     "name": "stdout",
     "output_type": "stream",
     "text": [
      "33.33333333333333 %\n",
      "\n"
     ]
    },
    {
     "name": "stderr",
     "output_type": "stream",
     "text": [
      "100%|██████████| 5/5 [00:00<00:00, 44.20it/s]\n",
      " 10%|█         | 5/50 [00:00<00:06,  7.04it/s]"
     ]
    },
    {
     "name": "stdout",
     "output_type": "stream",
     "text": [
      "File Name: shapes/circles/drawing(1).png\n",
      "File Name: shapes/circles/drawing(10).png\n",
      "File Name: shapes/circles/drawing(100).png\n",
      "File Name: shapes/circles/drawing(11).png\n",
      "File Name: shapes/circles/drawing(12).png\n",
      "30.333333333333336 %\n",
      "\n"
     ]
    },
    {
     "name": "stderr",
     "output_type": "stream",
     "text": []
    },
    {
     "name": "stdout",
     "output_type": "stream",
     "text": [
      "File Name: shapes/circles/drawing(1).png\n"
     ]
    },
    {
     "name": "stderr",
     "output_type": "stream",
     "text": [
      "100%|██████████| 5/5 [00:00<00:00, 41.46it/s]\n",
      " 12%|█▏        | 6/50 [00:00<00:06,  7.32it/s]"
     ]
    },
    {
     "name": "stdout",
     "output_type": "stream",
     "text": [
      "File Name: shapes/circles/drawing(10).png\n",
      "File Name: shapes/circles/drawing(100).png\n",
      "File Name: shapes/circles/drawing(11).png\n",
      "File Name: shapes/circles/drawing(12).png\n",
      "31.666666666666664 %\n",
      "\n"
     ]
    },
    {
     "name": "stderr",
     "output_type": "stream",
     "text": [
      "100%|██████████| 5/5 [00:00<00:00, 35.62it/s]\n",
      " 14%|█▍        | 7/50 [00:01<00:05,  7.21it/s]"
     ]
    },
    {
     "name": "stdout",
     "output_type": "stream",
     "text": [
      "File Name: shapes/circles/drawing(1).png\n",
      "File Name: shapes/circles/drawing(10).png\n",
      "File Name: shapes/circles/drawing(100).png\n",
      "File Name: shapes/circles/drawing(11).png\n",
      "File Name: shapes/circles/drawing(12).png\n",
      "33.33333333333333 %\n",
      "\n"
     ]
    },
    {
     "name": "stderr",
     "output_type": "stream",
     "text": [
      "100%|██████████| 5/5 [00:00<00:00, 41.88it/s]\n",
      " 16%|█▌        | 8/50 [00:01<00:05,  7.49it/s]"
     ]
    },
    {
     "name": "stdout",
     "output_type": "stream",
     "text": [
      "File Name: shapes/circles/drawing(1).png\n",
      "File Name: shapes/circles/drawing(10).png\n",
      "File Name: shapes/circles/drawing(100).png\n",
      "File Name: shapes/circles/drawing(11).png\n",
      "File Name: shapes/circles/drawing(12).png\n",
      "33.33333333333333 %\n",
      "\n"
     ]
    },
    {
     "name": "stderr",
     "output_type": "stream",
     "text": [
      "100%|██████████| 5/5 [00:00<00:00, 46.06it/s]\n",
      " 18%|█▊        | 9/50 [00:01<00:05,  7.89it/s]"
     ]
    },
    {
     "name": "stdout",
     "output_type": "stream",
     "text": [
      "File Name: shapes/circles/drawing(1).png\n",
      "File Name: shapes/circles/drawing(10).png\n",
      "File Name: shapes/circles/drawing(100).png\n",
      "File Name: shapes/circles/drawing(11).png\n",
      "File Name: shapes/circles/drawing(12).png\n",
      "33.33333333333333 %\n",
      "\n"
     ]
    },
    {
     "name": "stderr",
     "output_type": "stream",
     "text": [
      "100%|██████████| 5/5 [00:00<00:00, 39.37it/s]\n",
      " 20%|██        | 10/50 [00:01<00:05,  7.81it/s]"
     ]
    },
    {
     "name": "stdout",
     "output_type": "stream",
     "text": [
      "File Name: shapes/circles/drawing(1).png\n",
      "File Name: shapes/circles/drawing(10).png\n",
      "File Name: shapes/circles/drawing(100).png\n",
      "File Name: shapes/circles/drawing(11).png\n",
      "File Name: shapes/circles/drawing(12).png\n",
      "35.66666666666667 %\n",
      "\n"
     ]
    },
    {
     "name": "stderr",
     "output_type": "stream",
     "text": []
    },
    {
     "name": "stdout",
     "output_type": "stream",
     "text": [
      "File Name: shapes/circles/drawing(1).png\n",
      "File Name: shapes/circles/drawing(10).png\n",
      "File Name: shapes/circles/drawing(100).png\n",
      "File Name: shapes/circles/drawing(11).png\n"
     ]
    },
    {
     "name": "stderr",
     "output_type": "stream",
     "text": [
      "100%|██████████| 5/5 [00:00<00:00, 31.20it/s]\n",
      " 22%|██▏       | 11/50 [00:01<00:05,  7.18it/s]"
     ]
    },
    {
     "name": "stdout",
     "output_type": "stream",
     "text": [
      "File Name: shapes/circles/drawing(12).png\n",
      "28.666666666666668 %\n",
      "\n"
     ]
    },
    {
     "name": "stderr",
     "output_type": "stream",
     "text": []
    },
    {
     "name": "stdout",
     "output_type": "stream",
     "text": [
      "File Name: shapes/circles/drawing(1).png\n",
      "File Name: shapes/circles/drawing(10).png\n",
      "File Name: shapes/circles/drawing(100).png\n"
     ]
    },
    {
     "name": "stderr",
     "output_type": "stream",
     "text": [
      "100%|██████████| 5/5 [00:00<00:00, 31.91it/s]\n",
      " 24%|██▍       | 12/50 [00:01<00:05,  6.85it/s]"
     ]
    },
    {
     "name": "stdout",
     "output_type": "stream",
     "text": [
      "File Name: shapes/circles/drawing(11).png\n",
      "File Name: shapes/circles/drawing(12).png\n",
      "33.33333333333333 %\n",
      "\n"
     ]
    },
    {
     "name": "stderr",
     "output_type": "stream",
     "text": [
      "100%|██████████| 5/5 [00:00<00:00, 43.47it/s]\n",
      " 26%|██▌       | 13/50 [00:01<00:05,  7.28it/s]"
     ]
    },
    {
     "name": "stdout",
     "output_type": "stream",
     "text": [
      "File Name: shapes/circles/drawing(1).png\n",
      "File Name: shapes/circles/drawing(10).png\n",
      "File Name: shapes/circles/drawing(100).png\n",
      "File Name: shapes/circles/drawing(11).png\n",
      "File Name: shapes/circles/drawing(12).png\n",
      "32.0 %\n",
      "\n"
     ]
    },
    {
     "name": "stderr",
     "output_type": "stream",
     "text": []
    },
    {
     "name": "stdout",
     "output_type": "stream",
     "text": [
      "File Name: shapes/circles/drawing(1).png\n",
      "File Name: shapes/circles/drawing(10).png\n",
      "File Name: shapes/circles/drawing(100).png\n",
      "File Name: shapes/circles/drawing(11).png\n",
      "File Name: shapes/circles/drawing(12).png\n"
     ]
    },
    {
     "name": "stderr",
     "output_type": "stream",
     "text": [
      "100%|██████████| 5/5 [00:00<00:00, 32.48it/s]\n",
      " 28%|██▊       | 14/50 [00:01<00:05,  6.97it/s]"
     ]
    },
    {
     "name": "stdout",
     "output_type": "stream",
     "text": [
      "31.333333333333336 %\n",
      "\n"
     ]
    },
    {
     "name": "stderr",
     "output_type": "stream",
     "text": []
    },
    {
     "name": "stdout",
     "output_type": "stream",
     "text": [
      "File Name: shapes/circles/drawing(1).png\n",
      "File Name: shapes/circles/drawing(10).png\n"
     ]
    },
    {
     "name": "stderr",
     "output_type": "stream",
     "text": [
      "100%|██████████| 5/5 [00:00<00:00, 28.63it/s]\n",
      " 30%|███       | 15/50 [00:02<00:05,  6.46it/s]"
     ]
    },
    {
     "name": "stdout",
     "output_type": "stream",
     "text": [
      "File Name: shapes/circles/drawing(100).png\n",
      "File Name: shapes/circles/drawing(11).png\n",
      "File Name: shapes/circles/drawing(12).png\n",
      "32.0 %\n",
      "\n"
     ]
    },
    {
     "name": "stderr",
     "output_type": "stream",
     "text": []
    },
    {
     "name": "stdout",
     "output_type": "stream",
     "text": [
      "File Name: shapes/circles/drawing(1).png\n",
      "File Name: shapes/circles/drawing(10).png\n",
      "File Name: shapes/circles/drawing(100).png\n",
      "File Name: shapes/circles/drawing(11).png\n",
      "File Name: shapes/circles/drawing(12).png\n"
     ]
    },
    {
     "name": "stderr",
     "output_type": "stream",
     "text": [
      "100%|██████████| 5/5 [00:00<00:00, 30.26it/s]\n",
      " 32%|███▏      | 16/50 [00:02<00:05,  6.27it/s]"
     ]
    },
    {
     "name": "stdout",
     "output_type": "stream",
     "text": [
      "33.0 %\n",
      "\n"
     ]
    },
    {
     "name": "stderr",
     "output_type": "stream",
     "text": []
    },
    {
     "name": "stdout",
     "output_type": "stream",
     "text": [
      "File Name: shapes/circles/drawing(1).png\n",
      "File Name: shapes/circles/drawing(10).png\n",
      "File Name: shapes/circles/drawing(100).png\n",
      "File Name: shapes/circles/drawing(11).png\n",
      "File Name: shapes/circles/drawing(12).png\n"
     ]
    },
    {
     "name": "stderr",
     "output_type": "stream",
     "text": [
      "100%|██████████| 5/5 [00:00<00:00, 34.14it/s]\n",
      " 34%|███▍      | 17/50 [00:02<00:05,  6.37it/s]"
     ]
    },
    {
     "name": "stdout",
     "output_type": "stream",
     "text": [
      "30.666666666666664 %\n",
      "\n"
     ]
    },
    {
     "name": "stderr",
     "output_type": "stream",
     "text": []
    },
    {
     "name": "stdout",
     "output_type": "stream",
     "text": [
      "File Name: shapes/circles/drawing(1).png\n",
      "File Name: shapes/circles/drawing(10).png\n",
      "File Name: shapes/circles/drawing(100).png\n"
     ]
    },
    {
     "name": "stderr",
     "output_type": "stream",
     "text": [
      "100%|██████████| 5/5 [00:00<00:00, 27.06it/s]\n",
      " 36%|███▌      | 18/50 [00:02<00:05,  6.01it/s]"
     ]
    },
    {
     "name": "stdout",
     "output_type": "stream",
     "text": [
      "File Name: shapes/circles/drawing(11).png\n",
      "File Name: shapes/circles/drawing(12).png\n",
      "26.666666666666668 %\n",
      "\n"
     ]
    },
    {
     "name": "stderr",
     "output_type": "stream",
     "text": []
    },
    {
     "name": "stdout",
     "output_type": "stream",
     "text": [
      "File Name: shapes/circles/drawing(1).png\n",
      "File Name: shapes/circles/drawing(10).png\n"
     ]
    },
    {
     "name": "stderr",
     "output_type": "stream",
     "text": [
      "100%|██████████| 5/5 [00:00<00:00, 23.12it/s]\n",
      " 38%|███▊      | 19/50 [00:02<00:05,  5.46it/s]"
     ]
    },
    {
     "name": "stdout",
     "output_type": "stream",
     "text": [
      "File Name: shapes/circles/drawing(100).png\n",
      "File Name: shapes/circles/drawing(11).png\n",
      "File Name: shapes/circles/drawing(12).png\n",
      "32.0 %\n",
      "\n"
     ]
    },
    {
     "name": "stderr",
     "output_type": "stream",
     "text": [
      "100%|██████████| 5/5 [00:00<00:00, 39.58it/s]\n",
      " 40%|████      | 20/50 [00:03<00:05,  5.99it/s]"
     ]
    },
    {
     "name": "stdout",
     "output_type": "stream",
     "text": [
      "File Name: shapes/circles/drawing(1).png\n",
      "File Name: shapes/circles/drawing(10).png\n",
      "File Name: shapes/circles/drawing(100).png\n",
      "File Name: shapes/circles/drawing(11).png\n",
      "File Name: shapes/circles/drawing(12).png\n",
      "27.333333333333332 %\n",
      "\n"
     ]
    },
    {
     "name": "stderr",
     "output_type": "stream",
     "text": [
      "100%|██████████| 5/5 [00:00<00:00, 36.45it/s]\n",
      " 42%|████▏     | 21/50 [00:03<00:04,  6.29it/s]"
     ]
    },
    {
     "name": "stdout",
     "output_type": "stream",
     "text": [
      "File Name: shapes/circles/drawing(1).png\n",
      "File Name: shapes/circles/drawing(10).png\n",
      "File Name: shapes/circles/drawing(100).png\n",
      "File Name: shapes/circles/drawing(11).png\n",
      "File Name: shapes/circles/drawing(12).png\n",
      "32.0 %\n",
      "\n"
     ]
    },
    {
     "name": "stderr",
     "output_type": "stream",
     "text": [
      "100%|██████████| 5/5 [00:00<00:00, 39.44it/s]"
     ]
    },
    {
     "name": "stdout",
     "output_type": "stream",
     "text": [
      "File Name: shapes/circles/drawing(1).png\n",
      "File Name: shapes/circles/drawing(10).png\n",
      "File Name: shapes/circles/drawing(100).png\n",
      "File Name: shapes/circles/drawing(11).png\n",
      "File Name: shapes/circles/drawing(12).png\n"
     ]
    },
    {
     "name": "stderr",
     "output_type": "stream",
     "text": [
      "\n",
      " 44%|████▍     | 22/50 [00:03<00:04,  6.65it/s]"
     ]
    },
    {
     "name": "stdout",
     "output_type": "stream",
     "text": [
      "33.33333333333333 %\n",
      "\n"
     ]
    },
    {
     "name": "stderr",
     "output_type": "stream",
     "text": [
      "100%|██████████| 5/5 [00:00<00:00, 35.39it/s]\n",
      " 46%|████▌     | 23/50 [00:03<00:04,  6.73it/s]"
     ]
    },
    {
     "name": "stdout",
     "output_type": "stream",
     "text": [
      "File Name: shapes/circles/drawing(1).png\n",
      "File Name: shapes/circles/drawing(10).png\n",
      "File Name: shapes/circles/drawing(100).png\n",
      "File Name: shapes/circles/drawing(11).png\n",
      "File Name: shapes/circles/drawing(12).png\n",
      "33.33333333333333 %\n",
      "\n"
     ]
    },
    {
     "name": "stderr",
     "output_type": "stream",
     "text": []
    },
    {
     "name": "stdout",
     "output_type": "stream",
     "text": [
      "File Name: shapes/circles/drawing(1).png\n",
      "File Name: shapes/circles/drawing(10).png\n",
      "File Name: shapes/circles/drawing(100).png\n",
      "File Name: shapes/circles/drawing(11).png\n"
     ]
    },
    {
     "name": "stderr",
     "output_type": "stream",
     "text": [
      "100%|██████████| 5/5 [00:00<00:00, 30.06it/s]\n",
      " 48%|████▊     | 24/50 [00:03<00:04,  6.47it/s]"
     ]
    },
    {
     "name": "stdout",
     "output_type": "stream",
     "text": [
      "File Name: shapes/circles/drawing(12).png\n",
      "33.33333333333333 %\n",
      "\n"
     ]
    },
    {
     "name": "stderr",
     "output_type": "stream",
     "text": []
    },
    {
     "name": "stdout",
     "output_type": "stream",
     "text": [
      "File Name: shapes/circles/drawing(1).png\n",
      "File Name: shapes/circles/drawing(10).png\n",
      "File Name: shapes/circles/drawing(100).png\n",
      "File Name: shapes/circles/drawing(11).png\n",
      "File Name: shapes/circles/drawing(12).png\n"
     ]
    },
    {
     "name": "stderr",
     "output_type": "stream",
     "text": [
      "100%|██████████| 5/5 [00:00<00:00, 36.24it/s]\n",
      " 50%|█████     | 25/50 [00:03<00:03,  6.64it/s]"
     ]
    },
    {
     "name": "stdout",
     "output_type": "stream",
     "text": [
      "33.33333333333333 %\n",
      "\n"
     ]
    },
    {
     "name": "stderr",
     "output_type": "stream",
     "text": [
      "100%|██████████| 5/5 [00:00<00:00, 37.73it/s]\n",
      " 52%|█████▏    | 26/50 [00:03<00:03,  6.83it/s]"
     ]
    },
    {
     "name": "stdout",
     "output_type": "stream",
     "text": [
      "File Name: shapes/circles/drawing(1).png\n",
      "File Name: shapes/circles/drawing(10).png\n",
      "File Name: shapes/circles/drawing(100).png\n",
      "File Name: shapes/circles/drawing(11).png\n",
      "File Name: shapes/circles/drawing(12).png\n",
      "33.33333333333333 %\n",
      "\n"
     ]
    },
    {
     "name": "stderr",
     "output_type": "stream",
     "text": [
      "100%|██████████| 5/5 [00:00<00:00, 38.27it/s]\n",
      " 54%|█████▍    | 27/50 [00:04<00:03,  7.01it/s]"
     ]
    },
    {
     "name": "stdout",
     "output_type": "stream",
     "text": [
      "File Name: shapes/circles/drawing(1).png\n",
      "File Name: shapes/circles/drawing(10).png\n",
      "File Name: shapes/circles/drawing(100).png\n",
      "File Name: shapes/circles/drawing(11).png\n",
      "File Name: shapes/circles/drawing(12).png\n",
      "33.666666666666664 %\n",
      "\n"
     ]
    },
    {
     "name": "stderr",
     "output_type": "stream",
     "text": []
    },
    {
     "name": "stdout",
     "output_type": "stream",
     "text": [
      "File Name: shapes/circles/drawing(1).png\n",
      "File Name: shapes/circles/drawing(10).png\n",
      "File Name: shapes/circles/drawing(100).png\n",
      "File Name: shapes/circles/drawing(11).png\n",
      "File Name: shapes/circles/drawing(12).png\n"
     ]
    },
    {
     "name": "stderr",
     "output_type": "stream",
     "text": [
      "100%|██████████| 5/5 [00:00<00:00, 35.85it/s]\n",
      " 56%|█████▌    | 28/50 [00:04<00:03,  7.02it/s]"
     ]
    },
    {
     "name": "stdout",
     "output_type": "stream",
     "text": [
      "33.33333333333333 %\n",
      "\n"
     ]
    },
    {
     "name": "stderr",
     "output_type": "stream",
     "text": []
    },
    {
     "name": "stdout",
     "output_type": "stream",
     "text": [
      "File Name: shapes/circles/drawing(1).png\n",
      "File Name: shapes/circles/drawing(10).png\n",
      "File Name: shapes/circles/drawing(100).png\n",
      "File Name: shapes/circles/drawing(11).png\n",
      "File Name: shapes/circles/drawing(12).png\n"
     ]
    },
    {
     "name": "stderr",
     "output_type": "stream",
     "text": [
      "100%|██████████| 5/5 [00:00<00:00, 34.01it/s]\n",
      " 58%|█████▊    | 29/50 [00:04<00:03,  6.85it/s]"
     ]
    },
    {
     "name": "stdout",
     "output_type": "stream",
     "text": [
      "33.33333333333333 %\n",
      "\n"
     ]
    },
    {
     "name": "stderr",
     "output_type": "stream",
     "text": []
    },
    {
     "name": "stdout",
     "output_type": "stream",
     "text": [
      "File Name: shapes/circles/drawing(1).png\n",
      "File Name: shapes/circles/drawing(10).png\n"
     ]
    },
    {
     "name": "stderr",
     "output_type": "stream",
     "text": [
      "100%|██████████| 5/5 [00:00<00:00, 29.94it/s]\n",
      " 60%|██████    | 30/50 [00:04<00:03,  6.49it/s]"
     ]
    },
    {
     "name": "stdout",
     "output_type": "stream",
     "text": [
      "File Name: shapes/circles/drawing(100).png\n",
      "File Name: shapes/circles/drawing(11).png\n",
      "File Name: shapes/circles/drawing(12).png\n",
      "33.33333333333333 %\n",
      "\n"
     ]
    },
    {
     "name": "stderr",
     "output_type": "stream",
     "text": [
      "100%|██████████| 5/5 [00:00<00:00, 36.38it/s]"
     ]
    },
    {
     "name": "stdout",
     "output_type": "stream",
     "text": [
      "File Name: shapes/circles/drawing(1).png\n",
      "File Name: shapes/circles/drawing(10).png\n",
      "File Name: shapes/circles/drawing(100).png\n",
      "File Name: shapes/circles/drawing(11).png\n",
      "File Name: shapes/circles/drawing(12).png\n"
     ]
    },
    {
     "name": "stderr",
     "output_type": "stream",
     "text": [
      "\n",
      " 62%|██████▏   | 31/50 [00:04<00:02,  6.67it/s]"
     ]
    },
    {
     "name": "stdout",
     "output_type": "stream",
     "text": [
      "29.666666666666668 %\n",
      "\n"
     ]
    },
    {
     "name": "stderr",
     "output_type": "stream",
     "text": [
      "100%|██████████| 5/5 [00:00<00:00, 39.28it/s]\n",
      " 64%|██████▍   | 32/50 [00:04<00:02,  6.89it/s]"
     ]
    },
    {
     "name": "stdout",
     "output_type": "stream",
     "text": [
      "File Name: shapes/circles/drawing(1).png\n",
      "File Name: shapes/circles/drawing(10).png\n",
      "File Name: shapes/circles/drawing(100).png\n",
      "File Name: shapes/circles/drawing(11).png\n",
      "File Name: shapes/circles/drawing(12).png\n",
      "32.33333333333333 %\n",
      "\n"
     ]
    },
    {
     "name": "stderr",
     "output_type": "stream",
     "text": [
      "100%|██████████| 5/5 [00:00<00:00, 39.51it/s]\n",
      " 66%|██████▌   | 33/50 [00:04<00:02,  7.10it/s]"
     ]
    },
    {
     "name": "stdout",
     "output_type": "stream",
     "text": [
      "File Name: shapes/circles/drawing(1).png\n",
      "File Name: shapes/circles/drawing(10).png\n",
      "File Name: shapes/circles/drawing(100).png\n",
      "File Name: shapes/circles/drawing(11).png\n",
      "File Name: shapes/circles/drawing(12).png\n",
      "32.666666666666664 %\n",
      "\n"
     ]
    },
    {
     "name": "stderr",
     "output_type": "stream",
     "text": []
    },
    {
     "name": "stdout",
     "output_type": "stream",
     "text": [
      "File Name: shapes/circles/drawing(1).png\n",
      "File Name: shapes/circles/drawing(10).png\n",
      "File Name: shapes/circles/drawing(100).png\n",
      "File Name: shapes/circles/drawing(11).png\n"
     ]
    },
    {
     "name": "stderr",
     "output_type": "stream",
     "text": [
      "100%|██████████| 5/5 [00:00<00:00, 31.26it/s]\n",
      " 68%|██████▊   | 34/50 [00:05<00:02,  6.74it/s]"
     ]
    },
    {
     "name": "stdout",
     "output_type": "stream",
     "text": [
      "File Name: shapes/circles/drawing(12).png\n",
      "33.33333333333333 %\n",
      "\n"
     ]
    },
    {
     "name": "stderr",
     "output_type": "stream",
     "text": []
    },
    {
     "name": "stdout",
     "output_type": "stream",
     "text": [
      "File Name: shapes/circles/drawing(1).png\n"
     ]
    },
    {
     "name": "stderr",
     "output_type": "stream",
     "text": []
    },
    {
     "name": "stdout",
     "output_type": "stream",
     "text": [
      "File Name: shapes/circles/drawing(10).png\n",
      "File Name: shapes/circles/drawing(100).png\n",
      "File Name: shapes/circles/drawing(11).png\n",
      "File Name: shapes/circles/drawing(12).png\n"
     ]
    },
    {
     "name": "stderr",
     "output_type": "stream",
     "text": [
      "100%|██████████| 5/5 [00:00<00:00, 27.08it/s]\n",
      " 70%|███████   | 35/50 [00:05<00:02,  6.23it/s]"
     ]
    },
    {
     "name": "stdout",
     "output_type": "stream",
     "text": [
      "28.333333333333332 %\n",
      "\n"
     ]
    },
    {
     "name": "stderr",
     "output_type": "stream",
     "text": []
    },
    {
     "name": "stdout",
     "output_type": "stream",
     "text": [
      "File Name: shapes/circles/drawing(1).png\n",
      "File Name: shapes/circles/drawing(10).png\n",
      "File Name: shapes/circles/drawing(100).png\n",
      "File Name: shapes/circles/drawing(11).png\n"
     ]
    },
    {
     "name": "stderr",
     "output_type": "stream",
     "text": [
      "100%|██████████| 5/5 [00:00<00:00, 39.51it/s]\n",
      " 72%|███████▏  | 36/50 [00:05<00:02,  6.61it/s]"
     ]
    },
    {
     "name": "stdout",
     "output_type": "stream",
     "text": [
      "File Name: shapes/circles/drawing(12).png\n",
      "33.33333333333333 %\n",
      "\n"
     ]
    },
    {
     "name": "stderr",
     "output_type": "stream",
     "text": [
      "100%|██████████| 5/5 [00:00<00:00, 38.96it/s]\n",
      " 74%|███████▍  | 37/50 [00:05<00:01,  6.86it/s]"
     ]
    },
    {
     "name": "stdout",
     "output_type": "stream",
     "text": [
      "File Name: shapes/circles/drawing(1).png\n",
      "File Name: shapes/circles/drawing(10).png\n",
      "File Name: shapes/circles/drawing(100).png\n",
      "File Name: shapes/circles/drawing(11).png\n",
      "File Name: shapes/circles/drawing(12).png\n",
      "28.333333333333332 %\n",
      "\n"
     ]
    },
    {
     "name": "stderr",
     "output_type": "stream",
     "text": []
    },
    {
     "name": "stdout",
     "output_type": "stream",
     "text": [
      "File Name: shapes/circles/drawing(1).png\n",
      "File Name: shapes/circles/drawing(10).png\n",
      "File Name: shapes/circles/drawing(100).png\n",
      "File Name: shapes/circles/drawing(11).png\n",
      "File Name: shapes/circles/drawing(12).png\n"
     ]
    },
    {
     "name": "stderr",
     "output_type": "stream",
     "text": [
      "100%|██████████| 5/5 [00:00<00:00, 32.36it/s]\n",
      " 76%|███████▌  | 38/50 [00:05<00:01,  6.66it/s]"
     ]
    },
    {
     "name": "stdout",
     "output_type": "stream",
     "text": [
      "33.33333333333333 %\n",
      "\n"
     ]
    },
    {
     "name": "stderr",
     "output_type": "stream",
     "text": []
    },
    {
     "name": "stdout",
     "output_type": "stream",
     "text": [
      "File Name: shapes/circles/drawing(1).png\n",
      "File Name: shapes/circles/drawing(10).png\n"
     ]
    },
    {
     "name": "stderr",
     "output_type": "stream",
     "text": [
      "100%|██████████| 5/5 [00:00<00:00, 31.59it/s]\n",
      " 78%|███████▊  | 39/50 [00:05<00:01,  6.49it/s]"
     ]
    },
    {
     "name": "stdout",
     "output_type": "stream",
     "text": [
      "File Name: shapes/circles/drawing(100).png\n",
      "File Name: shapes/circles/drawing(11).png\n",
      "File Name: shapes/circles/drawing(12).png\n",
      "33.33333333333333 %\n",
      "\n"
     ]
    },
    {
     "name": "stderr",
     "output_type": "stream",
     "text": [
      "100%|██████████| 5/5 [00:00<00:00, 41.31it/s]\n",
      " 80%|████████  | 40/50 [00:05<00:01,  6.89it/s]"
     ]
    },
    {
     "name": "stdout",
     "output_type": "stream",
     "text": [
      "File Name: shapes/circles/drawing(1).png\n",
      "File Name: shapes/circles/drawing(10).png\n",
      "File Name: shapes/circles/drawing(100).png\n",
      "File Name: shapes/circles/drawing(11).png\n",
      "File Name: shapes/circles/drawing(12).png\n",
      "33.33333333333333 %\n",
      "\n"
     ]
    },
    {
     "name": "stderr",
     "output_type": "stream",
     "text": []
    },
    {
     "name": "stdout",
     "output_type": "stream",
     "text": [
      "File Name: shapes/circles/drawing(1).png\n",
      "File Name: shapes/circles/drawing(10).png\n",
      "File Name: shapes/circles/drawing(100).png\n"
     ]
    },
    {
     "name": "stderr",
     "output_type": "stream",
     "text": [
      "100%|██████████| 5/5 [00:00<00:00, 28.91it/s]\n",
      " 82%|████████▏ | 41/50 [00:06<00:01,  6.41it/s]"
     ]
    },
    {
     "name": "stdout",
     "output_type": "stream",
     "text": [
      "File Name: shapes/circles/drawing(11).png\n",
      "File Name: shapes/circles/drawing(12).png\n",
      "33.666666666666664 %\n",
      "\n"
     ]
    },
    {
     "name": "stderr",
     "output_type": "stream",
     "text": [
      "100%|██████████| 5/5 [00:00<00:00, 39.42it/s]\n",
      " 84%|████████▍ | 42/50 [00:06<00:01,  6.75it/s]"
     ]
    },
    {
     "name": "stdout",
     "output_type": "stream",
     "text": [
      "File Name: shapes/circles/drawing(1).png\n",
      "File Name: shapes/circles/drawing(10).png\n",
      "File Name: shapes/circles/drawing(100).png\n",
      "File Name: shapes/circles/drawing(11).png\n",
      "File Name: shapes/circles/drawing(12).png\n",
      "33.33333333333333 %\n",
      "\n"
     ]
    },
    {
     "name": "stderr",
     "output_type": "stream",
     "text": [
      "100%|██████████| 5/5 [00:00<00:00, 36.41it/s]\n",
      " 86%|████████▌ | 43/50 [00:06<00:01,  6.87it/s]"
     ]
    },
    {
     "name": "stdout",
     "output_type": "stream",
     "text": [
      "File Name: shapes/circles/drawing(1).png\n",
      "File Name: shapes/circles/drawing(10).png\n",
      "File Name: shapes/circles/drawing(100).png\n",
      "File Name: shapes/circles/drawing(11).png\n",
      "File Name: shapes/circles/drawing(12).png\n",
      "33.33333333333333 %\n",
      "\n"
     ]
    },
    {
     "name": "stderr",
     "output_type": "stream",
     "text": []
    },
    {
     "name": "stdout",
     "output_type": "stream",
     "text": [
      "File Name: shapes/circles/drawing(1).png\n",
      "File Name: shapes/circles/drawing(10).png\n",
      "File Name: shapes/circles/drawing(100).png\n",
      "File Name: shapes/circles/drawing(11).png\n"
     ]
    },
    {
     "name": "stderr",
     "output_type": "stream",
     "text": [
      "100%|██████████| 5/5 [00:00<00:00, 30.41it/s]\n",
      " 88%|████████▊ | 44/50 [00:06<00:00,  6.58it/s]"
     ]
    },
    {
     "name": "stdout",
     "output_type": "stream",
     "text": [
      "File Name: shapes/circles/drawing(12).png\n",
      "33.33333333333333 %\n",
      "\n"
     ]
    },
    {
     "name": "stderr",
     "output_type": "stream",
     "text": []
    },
    {
     "name": "stdout",
     "output_type": "stream",
     "text": [
      "File Name: shapes/circles/drawing(1).png\n",
      "File Name: shapes/circles/drawing(10).png\n",
      "File Name: shapes/circles/drawing(100).png\n",
      "File Name: shapes/circles/drawing(11).png\n"
     ]
    },
    {
     "name": "stderr",
     "output_type": "stream",
     "text": [
      "100%|██████████| 5/5 [00:00<00:00, 34.15it/s]\n",
      " 90%|█████████ | 45/50 [00:06<00:00,  6.58it/s]"
     ]
    },
    {
     "name": "stdout",
     "output_type": "stream",
     "text": [
      "File Name: shapes/circles/drawing(12).png\n",
      "32.0 %\n",
      "\n"
     ]
    },
    {
     "name": "stderr",
     "output_type": "stream",
     "text": []
    },
    {
     "name": "stdout",
     "output_type": "stream",
     "text": [
      "File Name: shapes/circles/drawing(1).png\n",
      "File Name: shapes/circles/drawing(10).png\n",
      "File Name: shapes/circles/drawing(100).png\n",
      "File Name: shapes/circles/drawing(11).png\n",
      "File Name: shapes/circles/drawing(12).png\n"
     ]
    },
    {
     "name": "stderr",
     "output_type": "stream",
     "text": [
      "100%|██████████| 5/5 [00:00<00:00, 35.33it/s]\n",
      " 92%|█████████▏| 46/50 [00:06<00:00,  6.63it/s]"
     ]
    },
    {
     "name": "stdout",
     "output_type": "stream",
     "text": [
      "33.33333333333333 %\n",
      "\n"
     ]
    },
    {
     "name": "stderr",
     "output_type": "stream",
     "text": []
    },
    {
     "name": "stdout",
     "output_type": "stream",
     "text": [
      "File Name: shapes/circles/drawing(1).png\n",
      "File Name: shapes/circles/drawing(10).png\n"
     ]
    },
    {
     "name": "stderr",
     "output_type": "stream",
     "text": [
      "100%|██████████| 5/5 [00:00<00:00, 25.79it/s]\n",
      " 94%|█████████▍| 47/50 [00:07<00:00,  6.05it/s]"
     ]
    },
    {
     "name": "stdout",
     "output_type": "stream",
     "text": [
      "File Name: shapes/circles/drawing(100).png\n",
      "File Name: shapes/circles/drawing(11).png\n",
      "File Name: shapes/circles/drawing(12).png\n",
      "33.33333333333333 %\n",
      "\n"
     ]
    },
    {
     "name": "stderr",
     "output_type": "stream",
     "text": []
    },
    {
     "name": "stdout",
     "output_type": "stream",
     "text": [
      "File Name: shapes/circles/drawing(1).png\n",
      "File Name: shapes/circles/drawing(10).png\n",
      "File Name: shapes/circles/drawing(100).png\n",
      "File Name: shapes/circles/drawing(11).png\n"
     ]
    },
    {
     "name": "stderr",
     "output_type": "stream",
     "text": [
      "100%|██████████| 5/5 [00:00<00:00, 36.77it/s]\n",
      " 96%|█████████▌| 48/50 [00:07<00:00,  6.35it/s]"
     ]
    },
    {
     "name": "stdout",
     "output_type": "stream",
     "text": [
      "File Name: shapes/circles/drawing(12).png\n",
      "30.666666666666664 %\n",
      "\n"
     ]
    },
    {
     "name": "stderr",
     "output_type": "stream",
     "text": []
    },
    {
     "name": "stdout",
     "output_type": "stream",
     "text": [
      "File Name: shapes/circles/drawing(1).png\n",
      "File Name: shapes/circles/drawing(10).png\n",
      "File Name: shapes/circles/drawing(100).png\n",
      "File Name: shapes/circles/drawing(11).png\n",
      "File Name: shapes/circles/drawing(12).png\n"
     ]
    },
    {
     "name": "stderr",
     "output_type": "stream",
     "text": [
      "100%|██████████| 5/5 [00:00<00:00, 33.40it/s]\n",
      " 98%|█████████▊| 49/50 [00:07<00:00,  6.39it/s]"
     ]
    },
    {
     "name": "stdout",
     "output_type": "stream",
     "text": [
      "33.33333333333333 %\n",
      "\n"
     ]
    },
    {
     "name": "stderr",
     "output_type": "stream",
     "text": []
    },
    {
     "name": "stdout",
     "output_type": "stream",
     "text": [
      "File Name: shapes/circles/drawing(1).png\n",
      "File Name: shapes/circles/drawing(10).png\n",
      "File Name: shapes/circles/drawing(100).png\n"
     ]
    },
    {
     "name": "stderr",
     "output_type": "stream",
     "text": [
      "100%|██████████| 5/5 [00:00<00:00, 30.60it/s]\n",
      "100%|██████████| 50/50 [00:07<00:00,  6.62it/s]\n"
     ]
    },
    {
     "name": "stdout",
     "output_type": "stream",
     "text": [
      "File Name: shapes/circles/drawing(11).png\n",
      "File Name: shapes/circles/drawing(12).png\n",
      "30.333333333333336 %\n",
      "\n",
      "Running on local URL:  http://127.0.0.1:7863\n",
      "Running on public URL: https://a3fe8df6-37ba-47ac.gradio.live\n",
      "\n",
      "This share link expires in 72 hours. For free permanent hosting and GPU upgrades (NEW!), check out Spaces: https://huggingface.co/spaces\n"
     ]
    },
    {
     "data": {
      "text/html": [
       "<div><iframe src=\"https://a3fe8df6-37ba-47ac.gradio.live\" width=\"100%\" height=\"500\" allow=\"autoplay; camera; microphone; clipboard-read; clipboard-write;\" frameborder=\"0\" allowfullscreen></iframe></div>"
      ],
      "text/plain": [
       "<IPython.core.display.HTML object>"
      ]
     },
     "metadata": {},
     "output_type": "display_data"
    },
    {
     "data": {
      "text/plain": []
     },
     "execution_count": 35,
     "metadata": {},
     "output_type": "execute_result"
    }
   ],
   "source": [
    "# if os.path.isfile(\"shapes-model.pth\"):\n",
    "#     app.model.load_state_dict(torch.load(\"shapes-model.pth\"))\n",
    "# else:\n",
    "    # train_model(device)\n",
    "train_model(device)\n",
    "gr.Interface(fn=sketch_recognition, inputs=[\"sketchpad\"], outputs=\"label\").launch(share=True)\n"
   ]
  }
 ],
 "metadata": {
  "kernelspec": {
   "display_name": "Python 3.10.11 64-bit",
   "language": "python",
   "name": "python3"
  },
  "language_info": {
   "codemirror_mode": {
    "name": "ipython",
    "version": 3
   },
   "file_extension": ".py",
   "mimetype": "text/x-python",
   "name": "python",
   "nbconvert_exporter": "python",
   "pygments_lexer": "ipython3",
   "version": "3.10.11"
  },
  "orig_nbformat": 4,
  "vscode": {
   "interpreter": {
    "hash": "e7370f93d1d0cde622a1f8e1c04877d8463912d04d973331ad4851f04de6915a"
   }
  }
 },
 "nbformat": 4,
 "nbformat_minor": 2
}
